{
  "nbformat": 4,
  "nbformat_minor": 0,
  "metadata": {
    "colab": {
      "name": "Evaluacion1_Parte1.ipynb",
      "provenance": [],
      "collapsed_sections": [],
      "include_colab_link": true
    },
    "kernelspec": {
      "name": "python3",
      "display_name": "Python 3"
    }
  },
  "cells": [
    {
      "cell_type": "markdown",
      "metadata": {
        "id": "view-in-github",
        "colab_type": "text"
      },
      "source": [
        "<a href=\"https://colab.research.google.com/github/RubenCameroAmador/Arbol_Genealogico/blob/master/AlgoritmoAasterisco.ipynb\" target=\"_parent\"><img src=\"https://colab.research.google.com/assets/colab-badge.svg\" alt=\"Open In Colab\"/></a>"
      ]
    },
    {
      "cell_type": "markdown",
      "metadata": {
        "id": "8QkjCtMBkGtB",
        "colab_type": "text"
      },
      "source": [
        "Matriz de adyacencia estática por ahora "
      ]
    },
    {
      "cell_type": "markdown",
      "metadata": {
        "id": "KOKl0NbLwQS1",
        "colab_type": "text"
      },
      "source": [
        "Omar pon lo que hiciste en la celda de código siguiente\n"
      ]
    },
    {
      "cell_type": "code",
      "metadata": {
        "id": "MY7QtH3IwPOD",
        "colab_type": "code",
        "colab": {
          "base_uri": "https://localhost:8080/",
          "height": 374
        },
        "outputId": "a04d2c3c-3b8a-4364-9362-1236b8f522f8"
      },
      "source": [
        "############# settings, dependencies and libraries \n",
        "!pip install pytesseract\n",
        "!pip install pillow\n",
        "!sudo apt install tesseract-ocr\n",
        "from PIL import Image\n",
        "import cv2\n",
        "import sys \n",
        "import pytesseract as tess\n",
        "import numpy as np\n",
        "tess.pytesseract.tesseract_cmd = (r'/usr/bin/tesseract')\n",
        "##################### Upload image and convert image to string\n",
        "img=Image.open('test.bmp')\n",
        "text=tess.image_to_string(img)\n",
        "f=text.split('\\n')\n",
        "##################### Deletion of extra characters \n",
        "f1=[]\n",
        "for i in range(len(f)):\n",
        "  if('1' in f[i] or '2' in f[i] or '3' in f[i] or '4' in f[i] or '5' in f[i] or '6' in f[i] or '7' in f[i] or '8' in f[i] or '9' in f[i] or '0' in f[i]):\n",
        "    f1.append(f[i])\n",
        "f2=[]\n",
        "#################### Converts array string to integer\n",
        "for i in range(len(f1)):\n",
        "  f3=''\n",
        "  for j in range(len(f1[i])):\n",
        "    if((f1[i])[j]=='1' or (f1[i])[j]=='2'or (f1[i])[j]=='3'or (f1[i])[j]=='4'or (f1[i])[j]=='5'or (f1[i])[j]=='6'or (f1[i])[j]=='7'or (f1[i])[j]=='8'or (f1[i])[j]=='9'or (f1[i])[j]=='0'or (f1[i])[j]=='\\n'or (f1[i])[j]==' '):\n",
        "      f3=f3+(f1[i])[j]\n",
        "  f2.append(f3.split(' '))\n",
        "######## this is the array\n",
        "m=np.asarray(f2, dtype=int)\n",
        "print(m)"
      ],
      "execution_count": 3,
      "outputs": [
        {
          "output_type": "stream",
          "text": [
            "Requirement already satisfied: pytesseract in /usr/local/lib/python3.6/dist-packages (0.3.5)\n",
            "Requirement already satisfied: Pillow in /usr/local/lib/python3.6/dist-packages (from pytesseract) (7.0.0)\n",
            "Requirement already satisfied: pillow in /usr/local/lib/python3.6/dist-packages (7.0.0)\n",
            "Reading package lists... Done\n",
            "Building dependency tree       \n",
            "Reading state information... Done\n",
            "tesseract-ocr is already the newest version (4.00~git2288-10f4998a-2).\n",
            "The following package was automatically installed and is no longer required:\n",
            "  libnvidia-common-440\n",
            "Use 'sudo apt autoremove' to remove it.\n",
            "0 upgraded, 0 newly installed, 0 to remove and 35 not upgraded.\n",
            "[[ 0 60 57  0  0 67 19  0  0 92]\n",
            " [18 29  0 15  0  0 59 11 36 83]\n",
            " [ 0 23  0  0  0 17 42 57 54  0]\n",
            " [30  0  0 41 93 34  0  0 13  0]\n",
            " [13  0 89  0 60  4  8 39  0  7]\n",
            " [ 0  0 37  0 29  0  0  0  0 88]\n",
            " [24 51  0 58  0 76  0 96 45 87]\n",
            " [ 0  0 78 38  0  0 42 10  0 41]\n",
            " [19 70  0  0 78  0 86 49 12  0]\n",
            " [ 0  0  0  0 40 49 44  7  0  0]]\n"
          ],
          "name": "stdout"
        }
      ]
    },
    {
      "cell_type": "markdown",
      "metadata": {
        "id": "n9QwWWEWki0s",
        "colab_type": "text"
      },
      "source": [
        "Implementación de la **Heuristica** basada en el algoritmo Dijktra Para encontrar la ruta mínima entre dos vertices A,B"
      ]
    },
    {
      "cell_type": "code",
      "metadata": {
        "id": "LIGlEFbwl2q3",
        "colab_type": "code",
        "colab": {}
      },
      "source": [
        "\n",
        "##################\n",
        "her_tem = np.zeros((len(m),2),dtype=int)\n",
        "her = np.zeros((len(m)),dtype=float)\n",
        "nodes = np.zeros(len(m),dtype=int)\n",
        "for i in range(0,len(m)):\n",
        "    nodes[i]=i\n",
        "#################\n",
        "\n",
        "class Graph(): \n",
        "\n",
        "    def __init__(self, vertices): \n",
        "        self.V = vertices \n",
        "        self.graph = [[0 for column in range(vertices)] \n",
        "                    for row in range(vertices)] \n",
        "\n",
        "    def printSolution(self, dist): \n",
        "        #print(\"Vertex \\tDistance from Source\")\n",
        "        for node in range(self.V): \n",
        "            #print(node, \"\\t\", dist[node])\n",
        "            her_tem[node,0]=node\n",
        "            her_tem[node,1]=dist[node]\n",
        "            \n",
        "            \n",
        "\n",
        "\n",
        "    def minDistance(self, dist, sptSet): \n",
        "        min = float(\"inf\") \n",
        "        for v in range(self.V): \n",
        "            if dist[v] < min and sptSet[v] == False: \n",
        "                min = dist[v] \n",
        "                min_index = v \n",
        "        return min_index \n",
        " \n",
        "    def dijkstra(self, src, des): \n",
        "\n",
        "        dist = [float(\"inf\")] * self.V \n",
        "        dist[src] = 0\n",
        "        sptSet = [False] * self.V \n",
        "\n",
        "        for cout in range(self.V): \n",
        "            u = self.minDistance(dist, sptSet) \n",
        "            sptSet[u] = True\n",
        "            for v in range(self.V): \n",
        "                if self.graph[u][v] > 0 and sptSet[v] == False and dist[v] > dist[u] + self.graph[u][v]: \n",
        "                        dist[v] = dist[u] + self.graph[u][v] \n",
        "\n",
        "        self.printSolution(dist)\n",
        "        #print(her_tem)\n",
        "        if(her_tem[des,1]!=0):\n",
        "          her[src]=her_tem[des,1]-.3"
      ],
      "execution_count": 4,
      "outputs": []
    },
    {
      "cell_type": "markdown",
      "metadata": {
        "id": "KluR-u2TlaMA",
        "colab_type": "text"
      },
      "source": [
        "MAIN \n",
        "La respuesta resulta de calcular la distancia mínima de todos los nodos a determinado vertice destino, como lo desarrollado en la clase"
      ]
    },
    {
      "cell_type": "code",
      "metadata": {
        "id": "BrvAdM-6lVPY",
        "colab_type": "code",
        "colab": {
          "base_uri": "https://localhost:8080/",
          "height": 238
        },
        "outputId": "de768bf6-9e24-4025-a179-1de97bdd93c3"
      },
      "source": [
        "m[0,9]=0\n",
        "print(m)\n",
        "v2 = int(len(m)-1)\n",
        "g = Graph(len(m)) \n",
        "g.graph=m\n",
        "print('******HEURISTICA********')\n",
        "for i in range(0,len(m)):\n",
        "    g.dijkstra(i, v2)\n",
        "print('nodos', nodes)\n",
        "print('Heuristica',her)"
      ],
      "execution_count": 5,
      "outputs": [
        {
          "output_type": "stream",
          "text": [
            "[[ 0 60 57  0  0 67 19  0  0  0]\n",
            " [18 29  0 15  0  0 59 11 36 83]\n",
            " [ 0 23  0  0  0 17 42 57 54  0]\n",
            " [30  0  0 41 93 34  0  0 13  0]\n",
            " [13  0 89  0 60  4  8 39  0  7]\n",
            " [ 0  0 37  0 29  0  0  0  0 88]\n",
            " [24 51  0 58  0 76  0 96 45 87]\n",
            " [ 0  0 78 38  0  0 42 10  0 41]\n",
            " [19 70  0  0 78  0 86 49 12  0]\n",
            " [ 0  0  0  0 40 49 44  7  0  0]]\n",
            "******HEURISTICA********\n",
            "nodos [0 1 2 3 4 5 6 7 8 9]\n",
            "Heuristica [102.7  51.7  52.7  69.7   6.7  35.7  86.7  40.7  84.7   0. ]\n"
          ],
          "name": "stdout"
        }
      ]
    },
    {
      "cell_type": "markdown",
      "metadata": {
        "id": "dm9CKRQ2YT1F",
        "colab_type": "text"
      },
      "source": [
        "A* Algoritmo "
      ]
    },
    {
      "cell_type": "code",
      "metadata": {
        "id": "BEQP9pkAYS62",
        "colab_type": "code",
        "colab": {
          "base_uri": "https://localhost:8080/",
          "height": 360
        },
        "outputId": "fc254424-ceda-4486-e792-f986e952282c"
      },
      "source": [
        "iteracion = 1\n",
        "nodo=0\n",
        "#nodo,acum,heuristica\n",
        "padre = [[0,m[nodo,nodo],her[nodo]]]\n",
        "#padre,nodo,acum,heuristica\n",
        "hijos = []\n",
        "print('Atributos del Vector Padre: [nodo,acum,heuristica]')\n",
        "print('Atributos del Vector Hijos: [padre,nodo,acum,heuristica]')\n",
        "while(nodo!=len(m)-1):\n",
        "  print('ITERACIÓN',iteracion)\n",
        "  for i in range(0,len(m)):\n",
        "    if(i!=nodo and m[nodo,i]!=0):\n",
        "      sw=False\n",
        "      j=0\n",
        "      acum=0\n",
        "      while(sw==False and j<len(padre)):\n",
        "        if(padre[j][0]==nodo):\n",
        "          sw=True\n",
        "          acum=padre[j][1]+m[nodo][i]\n",
        "        j+=1\n",
        "      hijos.append([nodo,i,acum,her[i]])\n",
        "  iteracion+=1\n",
        "  #print('nodo-acum-heuristica')\n",
        "  print('PADRE',padre)\n",
        "  #print('padre-nodo-acum-heuristica')\n",
        "  print('HIJOS',hijos)\n",
        "\n",
        "  ##Calculo del hijo menor y nuevo padre\n",
        "  menor=hijos[0][2]+hijos[0][3]\n",
        "  hijomenor=hijos[0][1]\n",
        "  for son in range(0,len(hijos)):\n",
        "    testmenor=(hijos[son][2]+hijos[son][3])\n",
        "    if(menor>testmenor):\n",
        "      hijomenor=hijos[son][1]\n",
        "      menor=testmenor\n",
        "      posmenor=son\n",
        "  # print('El hijo menor de cero es: ',hijomenor)\n",
        "  #print('Con un valor de: ',menor)\n",
        "  #print('La posicion en vector del menor es: ',posmenor)\n",
        "  padre.append([hijomenor,hijos[posmenor][2],her[hijomenor]])\n",
        "  #print('Esta sería la nueva lista de padres',padre)\n",
        "  del hijos[posmenor]\n",
        "  #print('El nuevo vector de hijos es: ',hijos)\n",
        "  print('El valor del nodo es : ',hijomenor)\n",
        "  nodo=hijomenor\n",
        "print()\n",
        "print('***RESULTADOS FINALES***')\n",
        "print('Vector padres final',padre)\n",
        "print('El camino obtenido es el siguiente de izquierda a derecha')\n",
        "for k in range(0,len(padre)):\n",
        "  print(padre[k][0],' ', end=\"\")\n",
        "print('Con distancia acumulada de: ',padre[len(padre)-1][1], \"e Heuristica preestablecida de: \",her[0])\n",
        "\n",
        "\n",
        "    \n",
        "\n"
      ],
      "execution_count": 21,
      "outputs": [
        {
          "output_type": "stream",
          "text": [
            "Atributos del Vector Padre: [nodo,acum,heuristica]\n",
            "Atributos del Vector Hijos: [padre,nodo,acum,heuristica]\n",
            "ITERACIÓN 1\n",
            "PADRE [[0, 0, 102.7]]\n",
            "HIJOS [[0, 1, 60, 51.7], [0, 2, 57, 52.7], [0, 5, 67, 35.7], [0, 6, 19, 86.7]]\n",
            "El valor del nodo es :  5\n",
            "ITERACIÓN 2\n",
            "PADRE [[0, 0, 102.7], [5, 67, 35.7]]\n",
            "HIJOS [[0, 1, 60, 51.7], [0, 2, 57, 52.7], [0, 6, 19, 86.7], [5, 2, 104, 52.7], [5, 4, 96, 6.7], [5, 9, 155, 0.0]]\n",
            "El valor del nodo es :  4\n",
            "ITERACIÓN 3\n",
            "PADRE [[0, 0, 102.7], [5, 67, 35.7], [4, 96, 6.7]]\n",
            "HIJOS [[0, 1, 60, 51.7], [0, 2, 57, 52.7], [0, 6, 19, 86.7], [5, 2, 104, 52.7], [5, 9, 155, 0.0], [4, 0, 109, 102.7], [4, 2, 185, 52.7], [4, 5, 100, 35.7], [4, 6, 104, 86.7], [4, 7, 135, 40.7], [4, 9, 103, 0.0]]\n",
            "El valor del nodo es :  9\n",
            "\n",
            "***RESULTADOS FINALES***\n",
            "Vector padres final [[0, 0, 102.7], [5, 67, 35.7], [4, 96, 6.7], [9, 103, 0.0]]\n",
            "El camino obtenido es el siguiente de izquierda a derecha\n",
            "0  5  4  9  Con distancia acumulada de:  103 e Heuristica preestablecida de:  102.7\n"
          ],
          "name": "stdout"
        }
      ]
    },
    {
      "cell_type": "code",
      "metadata": {
        "id": "RGr_3VbS_ID3",
        "colab_type": "code",
        "colab": {}
      },
      "source": [
        ""
      ],
      "execution_count": null,
      "outputs": []
    }
  ]
}